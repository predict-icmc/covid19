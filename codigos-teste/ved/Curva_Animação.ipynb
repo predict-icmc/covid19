{
 "cells": [
  {
   "cell_type": "code",
   "execution_count": 1,
   "metadata": {
    "ExecuteTime": {
     "end_time": "2020-05-04T14:24:25.158917Z",
     "start_time": "2020-05-04T14:24:23.627218Z"
    }
   },
   "outputs": [],
   "source": [
    "# Imports\n",
    "import pandas as pd\n",
    "import numpy as np\n",
    "from datetime import datetime,timedelta\n",
    "from sklearn.metrics import mean_squared_error\n",
    "from scipy.optimize import curve_fit\n",
    "from scipy.optimize import fsolve\n",
    "import matplotlib.pyplot as plt\n",
    "%matplotlib inline"
   ]
  },
  {
   "cell_type": "code",
   "execution_count": 2,
   "metadata": {
    "ExecuteTime": {
     "end_time": "2020-05-04T14:24:25.168679Z",
     "start_time": "2020-05-04T14:24:25.158917Z"
    }
   },
   "outputs": [],
   "source": [
    "# Modelos ajustados inicialmente\n",
    "def logistic_model(x,a,b,c):\n",
    "    return c/(1+np.exp(-(x-b)/a))\n",
    "\n",
    "def exponential_model(x,a,b,c):\n",
    "    return a*np.exp(b*(x-c))\n"
   ]
  },
  {
   "cell_type": "code",
   "execution_count": 3,
   "metadata": {
    "ExecuteTime": {
     "end_time": "2020-05-04T14:24:25.426844Z",
     "start_time": "2020-05-04T14:24:25.176670Z"
    }
   },
   "outputs": [
    {
     "data": {
      "text/html": [
       "<div>\n",
       "<style scoped>\n",
       "    .dataframe tbody tr th:only-of-type {\n",
       "        vertical-align: middle;\n",
       "    }\n",
       "\n",
       "    .dataframe tbody tr th {\n",
       "        vertical-align: top;\n",
       "    }\n",
       "\n",
       "    .dataframe thead th {\n",
       "        text-align: right;\n",
       "    }\n",
       "</style>\n",
       "<table border=\"1\" class=\"dataframe\">\n",
       "  <thead>\n",
       "    <tr style=\"text-align: right;\">\n",
       "      <th></th>\n",
       "      <th>date</th>\n",
       "      <th>Brazil</th>\n",
       "      <th>data</th>\n",
       "    </tr>\n",
       "  </thead>\n",
       "  <tbody>\n",
       "    <tr>\n",
       "      <th>0</th>\n",
       "      <td>2019-12-31</td>\n",
       "      <td>0</td>\n",
       "      <td>-1</td>\n",
       "    </tr>\n",
       "    <tr>\n",
       "      <th>1</th>\n",
       "      <td>2020-01-01</td>\n",
       "      <td>0</td>\n",
       "      <td>0</td>\n",
       "    </tr>\n",
       "    <tr>\n",
       "      <th>2</th>\n",
       "      <td>2020-01-02</td>\n",
       "      <td>0</td>\n",
       "      <td>1</td>\n",
       "    </tr>\n",
       "    <tr>\n",
       "      <th>3</th>\n",
       "      <td>2020-01-03</td>\n",
       "      <td>0</td>\n",
       "      <td>2</td>\n",
       "    </tr>\n",
       "    <tr>\n",
       "      <th>4</th>\n",
       "      <td>2020-01-04</td>\n",
       "      <td>0</td>\n",
       "      <td>3</td>\n",
       "    </tr>\n",
       "  </tbody>\n",
       "</table>\n",
       "</div>"
      ],
      "text/plain": [
       "         date  Brazil  data\n",
       "0  2019-12-31       0    -1\n",
       "1  2020-01-01       0     0\n",
       "2  2020-01-02       0     1\n",
       "3  2020-01-03       0     2\n",
       "4  2020-01-04       0     3"
      ]
     },
     "execution_count": 3,
     "metadata": {},
     "output_type": "execute_result"
    }
   ],
   "source": [
    "# Dados do Brasil\n",
    "url = \"https://covid.ourworldindata.org/data/ecdc/total_cases.csv\"\n",
    "df = pd.read_csv(url)\n",
    "df = df.loc[:,['date','Brazil']]\n",
    "FMT = '%Y-%m-%d'\n",
    "date = df['date']\n",
    "df['data'] = date.map(lambda x : (datetime.strptime(x, FMT) - datetime.strptime(\"2020-01-01\", FMT)).days  )\n",
    "df=df.dropna()\n",
    "df.head()\n"
   ]
  },
  {
   "cell_type": "code",
   "execution_count": 4,
   "metadata": {
    "ExecuteTime": {
     "end_time": "2020-05-04T14:24:26.373092Z",
     "start_time": "2020-05-04T14:24:26.369091Z"
    }
   },
   "outputs": [],
   "source": [
    "# Observações reais \n",
    "f = df.Brazil.to_list()"
   ]
  },
  {
   "cell_type": "code",
   "execution_count": 6,
   "metadata": {
    "ExecuteTime": {
     "end_time": "2020-05-04T14:24:41.883230Z",
     "start_time": "2020-05-04T14:24:41.876234Z"
    }
   },
   "outputs": [],
   "source": [
    "x = list(df.iloc[:,2])\n",
    "Y = list(df.iloc[:,1])\n"
   ]
  },
  {
   "cell_type": "code",
   "execution_count": 7,
   "metadata": {
    "ExecuteTime": {
     "end_time": "2020-05-04T14:24:48.453825Z",
     "start_time": "2020-05-04T14:24:48.448850Z"
    }
   },
   "outputs": [],
   "source": [
    "fit = curve_fit(logistic_model,x,Y,p0=[2,10,2000])\n",
    "\n",
    "a_logistic=fit[0][0]\n",
    "b_logistic=fit[0][1]\n",
    "c_logistic=fit[0][2]\n",
    "\n",
    "sol = int(fsolve(lambda x : logistic_model(x,a_logistic,b_logistic,c_logistic) - int(c_logistic),b_logistic))\n",
    "sol\n",
    "print(a_logistic,b_logistic,c_logistic)\n",
    "\n",
    "# Obsevações resultantes da modelagem para o modelo Logistico\n",
    "y = [logistic_model(i,fit[0][0],fit[0][1],fit[0][2]) for i in x]"
   ]
  },
  {
   "cell_type": "code",
   "execution_count": 9,
   "metadata": {
    "ExecuteTime": {
     "end_time": "2020-05-04T14:24:50.019111Z",
     "start_time": "2020-05-04T14:24:49.993127Z"
    }
   },
   "outputs": [],
   "source": [
    "exp_fit = curve_fit(exponential_model,x,y,p0=[0.2,.5,.1])\n",
    "\n",
    "a_exponential=exp_fit[0][0]\n",
    "b_exponential=exp_fit[0][1]\n",
    "c_exponential=exp_fit[0][2]\n",
    "\n",
    "# Obsevações resultantes da modelagem para o modelo exponencial\n",
    "y = [exponential_model(i,exp_fit[0][0],exp_fit[0][1],exp_fit[0][2]) for i in x]"
   ]
  },
  {
   "cell_type": "code",
   "execution_count": 12,
   "metadata": {
    "ExecuteTime": {
     "end_time": "2020-05-04T14:25:03.287992Z",
     "start_time": "2020-05-04T14:25:03.024369Z"
    }
   },
   "outputs": [],
   "source": [
    "\n",
    "import numpy as np\n",
    "import matplotlib.pyplot as plt\n",
    "import random\n",
    "import matplotlib.animation as animation\n",
    "from matplotlib import cm"
   ]
  },
  {
   "cell_type": "code",
   "execution_count": 13,
   "metadata": {
    "ExecuteTime": {
     "end_time": "2020-05-04T14:25:03.435187Z",
     "start_time": "2020-05-04T14:25:03.425191Z"
    }
   },
   "outputs": [],
   "source": [
    "# s curve function\n",
    "def _f(a,b,c,t):\n",
    "    return c*1/(1+a*np.exp(-b*t))\n",
    "# function for s curve with added noise\n",
    "def _y(a,b,c,d,t):\n",
    "    return abs(c/(1+a*np.exp(-b*t))+np.random.normal(0,d))\n"
   ]
  },
  {
   "cell_type": "code",
   "execution_count": 14,
   "metadata": {
    "ExecuteTime": {
     "end_time": "2020-05-04T14:25:03.941229Z",
     "start_time": "2020-05-04T14:25:03.936231Z"
    }
   },
   "outputs": [
    {
     "data": {
      "text/plain": [
       "126"
      ]
     },
     "execution_count": 14,
     "metadata": {},
     "output_type": "execute_result"
    }
   ],
   "source": [
    "len(y)"
   ]
  },
  {
   "cell_type": "code",
   "execution_count": 15,
   "metadata": {
    "ExecuteTime": {
     "end_time": "2020-05-04T14:25:04.543052Z",
     "start_time": "2020-05-04T14:25:04.537060Z"
    }
   },
   "outputs": [
    {
     "data": {
      "text/plain": [
       "126"
      ]
     },
     "execution_count": 15,
     "metadata": {},
     "output_type": "execute_result"
    }
   ],
   "source": [
    "len(f)"
   ]
  },
  {
   "cell_type": "code",
   "execution_count": 16,
   "metadata": {
    "ExecuteTime": {
     "end_time": "2020-05-04T14:25:06.544807Z",
     "start_time": "2020-05-04T14:25:06.489836Z"
    }
   },
   "outputs": [],
   "source": [
    "# the time series at which points are observed\n",
    "_t = np.arange(1,127,1)\n",
    "\n",
    "\n",
    "# Esse são os parâmetros que ainda não entendi ao certo.\n",
    "# these are the s-curve parameters at each time-step using historic data\n",
    "opt_param = {1:[80, 0.099999999999999992, 7900], 2:[20, 0.01, 1900],\n",
    "             3:[80, 0.19, 7900], 4:[70, 0.19, 7100],\n",
    "             5:[20, 0.099999999999999992, 2400], 6:[30, 0.01, 4100],\n",
    "             7:[30, 0.01, 4200], 8:[30, 0.01, 3800], 9:[30, 0.01, 4100],\n",
    "             10:[20, 0.01, 2500], 11:[20, 0.01, 2300], 12:[20, 0.01, 2100],\n",
    "             13:[20, 0.01, 2200], 14:[20, 0.01, 2200], 15:[20, 0.01, 2300],\n",
    "             16:[20, 0.01, 2300], 17:[20, 0.01, 2400], 18:[60, 0.02, 6500],\n",
    "             19:[80, 0.040000000000000001, 7300],\n",
    "             20:[120, 0.069999999999999993, 7900],\n",
    "             21:[170, 0.099999999999999992, 7600],\n",
    "             22:[200, 0.11, 7800], 23:[130, 0.080000000000000002, 7800],\n",
    "             24:[110, 0.069999999999999993, 7700],\n",
    "             25:[130, 0.080000000000000002, 7700],\n",
    "             26:[50, 0.080000000000000002, 3100],\n",
    "             27:[130, 0.080000000000000002, 7700],\n",
    "             28:[160, 0.089999999999999997, 7900],\n",
    "             29:[160, 0.089999999999999997, 7900],\n",
    "             30:[150, 0.089999999999999997, 7600],\n",
    "             31:[150, 0.089999999999999997, 7600],\n",
    "             32:[150, 0.089999999999999997, 7600],\n",
    "             33:[150, 0.089999999999999997, 7500],\n",
    "             34:[150, 0.089999999999999997, 7600],\n",
    "             35:[140, 0.099999999999999992, 5600],\n",
    "             36:[140, 0.089999999999999997, 7100],\n",
    "             37:[60, 0.099999999999999992, 2700],\n",
    "             38:[150, 0.089999999999999997, 7600],\n",
    "             39:[130, 0.089999999999999997, 6600],\n",
    "             40:[150, 0.089999999999999997, 7500],\n",
    "             41:[120, 0.089999999999999997, 6200],\n",
    "             42:[120, 0.089999999999999997, 6200],\n",
    "             43:[80, 0.099999999999999992, 3500],\n",
    "             44:[100, 0.089999999999999997, 5300],\n",
    "             45:[80, 0.099999999999999992, 3500],\n",
    "             46:[80, 0.099999999999999992, 3500],\n",
    "             47:[80, 0.099999999999999992, 3500],\n",
    "             48:[80, 0.099999999999999992, 3500],\n",
    "             49:[90, 0.099999999999999992, 3800],\n",
    "             50:[80, 0.099999999999999992, 3500],\n",
    "             51:[90, 0.099999999999999992, 3800],\n",
    "             52:[90, 0.099999999999999992, 3800],\n",
    "             53:[90, 0.089999999999999997, 4800],\n",
    "             54:[90, 0.099999999999999992, 3800],\n",
    "             55:[90, 0.099999999999999992, 3700],\n",
    "             56:[90, 0.099999999999999992, 3800],\n",
    "             57:[80, 0.089999999999999997, 4400],\n",
    "             58:[80, 0.089999999999999997, 4400],\n",
    "             59:[80, 0.089999999999999997, 4400],\n",
    "             60:[80, 0.089999999999999997, 4400],\n",
    "             61:[80, 0.089999999999999997, 4400],\n",
    "             62:[80, 0.089999999999999997, 4400],\n",
    "             63:[100, 0.099999999999999992, 4000],\n",
    "             64:[80, 0.089999999999999997, 4400],\n",
    "             65:[100, 0.099999999999999992, 4000],\n",
    "             66:[100, 0.099999999999999992, 4000],\n",
    "             67:[100, 0.099999999999999992, 4000],\n",
    "             68:[100, 0.099999999999999992, 4000],\n",
    "             69:[100, 0.099999999999999992, 4000],\n",
    "             70:[100, 0.099999999999999992, 4000],\n",
    "             71:[100, 0.099999999999999992, 4000],\n",
    "             72:[100, 0.099999999999999992, 4000],\n",
    "             73:[100, 0.099999999999999992, 4000],\n",
    "             74:[100, 0.099999999999999992, 4000],\n",
    "             75:[100, 0.099999999999999992, 4000],\n",
    "             76:[100, 0.099999999999999992, 4000],\n",
    "             77:[100, 0.099999999999999992, 4000],\n",
    "             78:[100, 0.099999999999999992, 4000],\n",
    "             79:[100, 0.099999999999999992, 4000],\n",
    "             80:[100, 0.099999999999999992, 4000],\n",
    "             81:[100, 0.099999999999999992, 4000],\n",
    "             82:[100, 0.099999999999999992, 4000],\n",
    "             83:[100, 0.099999999999999992, 4000],\n",
    "             84:[100, 0.099999999999999992, 4000],\n",
    "             85:[100, 0.099999999999999992, 4000],\n",
    "             86:[100, 0.099999999999999992, 4000],\n",
    "             87:[100, 0.099999999999999992, 4000],\n",
    "             88:[100, 0.099999999999999992, 4000],\n",
    "             89:[100, 0.099999999999999992, 4000],\n",
    "             90:[100, 0.099999999999999992, 4000],\n",
    "             91:[100, 0.099999999999999992, 4000],\n",
    "             92:[100, 0.099999999999999992, 4000],\n",
    "             93:[100, 0.099999999999999992, 4000],\n",
    "             94:[100, 0.099999999999999992, 4000],\n",
    "             95:[100, 0.099999999999999992, 4000],\n",
    "             96:[100, 0.099999999999999992, 4000],\n",
    "             97:[100, 0.099999999999999992, 4000],\n",
    "             98:[100, 0.099999999999999992, 4000],\n",
    "             99:[100, 0.099999999999999992, 4000],\n",
    "             100:[100, 0.099999999999999992, 4000],\n",
    "             101:[100, 0.099999999999999992, 4000],\n",
    "             102:[100, 0.099999999999999992, 4000],\n",
    "             103:[100, 0.099999999999999992, 4000],\n",
    "             104:[100, 0.099999999999999992, 4000],\n",
    "             105:[100, 0.099999999999999992, 4000],\n",
    "             106:[100, 0.099999999999999992, 4000],\n",
    "             107:[100, 0.099999999999999992, 4000],\n",
    "             108:[100, 0.099999999999999992, 4000],\n",
    "             109:[100, 0.099999999999999992, 4000],\n",
    "             110:[100, 0.099999999999999992, 4000],\n",
    "             111:[100, 0.099999999999999992, 4000],\n",
    "             112:[100, 0.099999999999999992, 4000],\n",
    "             113:[100, 0.099999999999999992, 4000],\n",
    "             114:[100, 0.099999999999999992, 4000],\n",
    "             115:[100, 0.099999999999999992, 4000],\n",
    "             116:[100, 0.099999999999999992, 4000],\n",
    "             117:[100, 0.099999999999999992, 4000],\n",
    "             118:[100, 0.099999999999999992, 4000],\n",
    "             119:[100, 0.099999999999999992, 4000],\n",
    "             120:[100, 0.099999999999999992, 4000],\n",
    "             121:[100, 0.099999999999999992, 4000],\n",
    "             122:[100, 0.099999999999999992, 4000],\n",
    "             123:[100, 0.099999999999999992, 4000],\n",
    "             124:[100, 0.099999999999999992, 4000]}\n"
   ]
  },
  {
   "cell_type": "code",
   "execution_count": 17,
   "metadata": {
    "ExecuteTime": {
     "end_time": "2020-05-04T14:25:07.360354Z",
     "start_time": "2020-05-04T14:25:07.353353Z"
    }
   },
   "outputs": [
    {
     "data": {
      "text/plain": [
       "126"
      ]
     },
     "execution_count": 17,
     "metadata": {},
     "output_type": "execute_result"
    }
   ],
   "source": [
    "len(_t)"
   ]
  },
  {
   "cell_type": "code",
   "execution_count": 18,
   "metadata": {
    "ExecuteTime": {
     "end_time": "2020-05-04T14:26:59.905270Z",
     "start_time": "2020-05-04T14:25:08.816833Z"
    }
   },
   "outputs": [
    {
     "data": {
      "image/png": "[encoded data removed]",
      "text/plain": [
       "<Figure size 432x288 with 1 Axes>"
      ]
     },
     "metadata": {
      "needs_background": "light"
     },
     "output_type": "display_data"
    }
   ],
   "source": [
    "\n",
    "# plot the true curve and the observed points\n",
    "plt.rcParams[\"font.family\"] = 'serif'\n",
    "plt.rcParams['font.size'] = 10\n",
    "fig, ax = plt.subplots(figsize=(6,4))\n",
    "scat = ax.scatter(_t,y,marker='x',c='b')\n",
    "plt.plot(_t,f,c='k',lw='2',zorder=1,label='True')\n",
    "plt.ylim(0,6500)\n",
    "plt.xlim(0,120)\n",
    "plt.grid(ls=':')\n",
    "plt.tight_layout()\n",
    "line, = ax.plot([], [], c='r',lw=2,zorder=2,label='Predicted')\n",
    "line2, = ax.plot([], [], c='b',ls='--')\n",
    "plt.legend(loc=2)\n",
    "\n",
    "def data_gen(t=1):\n",
    "    while t < 125.9:\n",
    "        t += 0.1\n",
    "        opt1 = opt_param[int(t)]\n",
    "        opt2 = opt_param[int(t)+1]\n",
    "        y1 = _f(opt1[0],opt1[1],opt1[2],_t)\n",
    "        y2 = _f(opt2[0],opt2[1],opt2[2],_t)\n",
    "        frac = float(t%1)\n",
    "        yield t, frac*y2+(1-frac)*y1\n",
    "\n",
    "\n",
    "def run(data):\n",
    "    t, x = data\n",
    "    line2.set_data([t,t],[0,9000])\n",
    "    line.set_data(_t,x)\n",
    "    scat.set_color(['b']*int(t)+['silver']*(len(y)-int(t)))\n",
    "\n",
    "    return line, line2, scat\n",
    "\n",
    "ani = animation.FuncAnimation(fig, run, data_gen, blit=False, interval=2,\n",
    "                              repeat=False,save_count=1200)\n",
    "FFwriter=animation.FFMpegWriter(fps=75, extra_args=['-vcodec', 'libx264'])\n",
    "\n",
    "\n",
    "ani.save('mymovie.mp4', writer=FFwriter,dpi=150)\n",
    "\n",
    "\n",
    "plt.show()"
   ]
  },
  {
   "cell_type": "code",
   "execution_count": 19,
   "metadata": {
    "ExecuteTime": {
     "end_time": "2020-05-04T14:33:40.495595Z",
     "start_time": "2020-05-04T14:31:38.171191Z"
    },
    "scrolled": true
   },
   "outputs": [
    {
     "data": {
      "image/png": "[encoded data removed]",
      "text/plain": [
       "<Figure size 432x288 with 1 Axes>"
      ]
     },
     "metadata": {
      "needs_background": "light"
     },
     "output_type": "display_data"
    }
   ],
   "source": [
    "# Código inteiro da autora retirado do GitHub\n",
    "\n",
    "import numpy as np\n",
    "import matplotlib.pyplot as plt\n",
    "import random\n",
    "import matplotlib.animation as animation\n",
    "from matplotlib import cm\n",
    "\n",
    "# s curve function\n",
    "def _f(a,b,c,t):\n",
    "    return c*1/(1+a*np.exp(-b*t))\n",
    "# function for s curve with added noise\n",
    "def _y(a,b,c,d,t):\n",
    "    return abs(c/(1+a*np.exp(-b*t))+np.random.normal(0,d))\n",
    "\n",
    "# the time series at which points are observed\n",
    "_t = np.arange(1,120,1)\n",
    "\n",
    "# observed and true values of the s-curve for integer values of t\n",
    "f = [43.723616034283943, 48.266580975107217, 53.275212159450973, 58.795856792825646,\n",
    "     64.879174084617475, 71.580470799769714, 78.960048190561636, 87.083556938055253,\n",
    "     96.022355600521379, 105.85386671473393, 116.66192310116948, 128.53709506424013,\n",
    "     141.5769870372946, 155.88648979144884, 171.57797161265069, 188.77138887675781,\n",
    "     207.59429326740255, 228.1817095693043, 250.67585465655233, 275.22566515990553,\n",
    "     301.98609858030431, 331.11717062914062, 362.78269070698775, 397.14865814499052,\n",
    "     434.38128465822456, 474.64461397696414, 518.09771842115811, 564.89146481498233,\n",
    "     615.16485903497653, 669.04099986779647, 726.62269861844629, 787.98785050875972,\n",
    "     853.18467623290428, 922.22698534347012, 995.08964500886123, 1071.7044650754437,\n",
    "     1151.9567298029981, 1235.6826144811646, 1322.6677180006561, 1412.6469177396746,\n",
    "     1505.3057095390855, 1600.2831335834537, 1697.1763093065156, 1795.5465138138186,\n",
    "     1894.9266454960866, 1994.8298255288225, 2094.7588132380479, 2194.215854583143,\n",
    "     2292.7125522167221, 2389.7793440369678, 2484.9742050168547, 2577.8902413784981,\n",
    "     2668.1619211658631, 2755.4697733666812, 2839.5434805437112, 2920.1633793353594,\n",
    "     2997.160462273443, 3070.4150381097552, 3139.8542533870909, 3205.4487046224694,\n",
    "     3267.2083793191546, 3325.1781575854652, 3379.4330877343814, 3430.0736225011201,\n",
    "     3477.2209709613221, 3521.0126879510767, 3561.5985902692487, 3599.137058999871,\n",
    "     3633.7917610969921, 3665.7288015273439, 3695.1142999112944, 3722.1123725472939,\n",
    "     3746.8834915335397, 3769.5831868717055, 3790.3610543615559, 3809.3600311899618,\n",
    "     3826.715901845901, 3842.5569988833886, 3857.0040657113091, 3870.1702516936716,\n",
    "     3882.1612131477909, 3893.0752971468264, 3903.0037882357337, 3912.0312011688984,\n",
    "     3920.2356055207242, 3927.6889704810196, 3934.4575203181407, 3940.6020928812341,\n",
    "     3946.1784951342242, 3951.2378510897142, 3955.8269386647025, 3959.9885129371073,\n",
    "     3963.7616140671225, 3967.1818587838879, 3970.2817148473991, 3973.0907582977011,\n",
    "     3975.6359136154538, 3977.941677155382, 3980.0303243899798, 3981.9221016266465,\n",
    "     3983.6354029467188, 3985.1869331678331, 3986.5918576584759, 3987.8639398410955,\n",
    "     3989.0156672124454, 3990.0583666906268, 3991.0023100707972, 3991.8568103380594,\n",
    "     3992.6303095487706, 3993.3304589518016, 3993.9641919805886, 3994.5377907058119,\n",
    "     3995.0569462981925, 3995.5268140115572, 3995.9520631584564, 3996.3369225144625,\n",
    "     3996.6852215529962, 3997.0004278802385, 3997.2856812093846]\n",
    "\n",
    "y = [107.64996241684651, 75.644293785293215, 238.03834193128432, 212.84885430223056,\n",
    "     129.20759397417027, 56.393322676763646, 170.12889442681342, 33.366488761391047,\n",
    "     225.47781802730543, 10.952977852756348, 34.181242119954476, 11.503160420741779,\n",
    "     140.66878464822102, 167.22673954320516, 187.4695305651741, 124.86097874381383,\n",
    "     205.41008895562359, 201.8017249612241, 288.25758938303255, 381.68713597628516,\n",
    "     454.89582917386525, 457.39038542311926, 197.2879868717402, 304.2219466604754,\n",
    "     451.92884422920019, 403.73303635917949, 534.11348429490295, 677.94499039009679,\n",
    "     617.26532641811457, 728.88982652908317, 768.02740562418035, 819.42701562256366,\n",
    "     788.04269661376838, 1016.4573174924733, 1137.7235689874294, 947.83405244780897,\n",
    "     996.48743686367652, 1467.6315386660849, 1250.9504924124185, 1536.4436760895942,\n",
    "     1461.8396409582242, 1640.9866287797483, 1534.468731605717, 1906.7615586382337,\n",
    "     1763.7863548454397, 2017.9110034235543, 2056.2614086348867, 2048.1548195727805,\n",
    "     2390.1413523091219, 2211.4613065477506, 2491.4135842189789, 2628.9074086839596,\n",
    "     2739.4225587555588, 2505.7456511682417, 2615.1113563315175, 3106.1805804247019,\n",
    "     3011.2364283040265, 3109.0005441173803, 3075.5685776905339, 3163.8849100225507,\n",
    "     3378.8253871787128, 3269.4296466560263, 3345.6872745083624, 3523.2744933424242,\n",
    "     3445.2254022292273, 3523.8527872843574, 3419.066957109414, 3643.4758745491936,\n",
    "     3639.8258099536629, 3663.491424107187, 3670.0470771043165, 3843.4877746757547,\n",
    "     3698.6798155844672, 3783.8738219272536, 3809.5095544095061, 3853.0073182972542,\n",
    "     3708.6473522752531, 4065.2531114095095, 3965.6247858108045, 3936.569950277787,\n",
    "     3832.4227471130566, 3856.313366930161, 3697.578731615949, 3861.2882573059915,\n",
    "     3803.9775412821677, 3974.4093591269816, 3820.9622954701817, 3808.941102006147,\n",
    "     4049.7394097249962, 3859.7000474242068, 4020.5594156009602, 3977.3167191564257,\n",
    "     3917.1219937629903, 3764.8918669464924, 3937.9162636736573, 3940.8749799135685,\n",
    "     4005.1404397169922, 4032.7789472279251, 3989.4915477996387, 4057.3531010554461,\n",
    "     4013.6726137807759, 3985.4071469252058, 3943.3014318463042, 4016.6254087962311,\n",
    "     4062.560331786301, 4038.0817403385199, 4043.1318296967193, 4113.549877647798,\n",
    "     4019.4294152727889, 3999.0073588161522, 4094.6441108375552, 3933.0748050644411,\n",
    "     4104.3562663660023, 4051.9917629860529, 3885.8223745044797, 3918.0688583897108,\n",
    "     3995.4162178647953, 4004.6417834949148, 3944.2031935737714]\n",
    "\n",
    "# these are the s-curve parameters at each time-step using historic data\n",
    "opt_param = {1:[80, 0.099999999999999992, 7900], 2:[20, 0.01, 1900],\n",
    "             3:[80, 0.19, 7900], 4:[70, 0.19, 7100],\n",
    "             5:[20, 0.099999999999999992, 2400], 6:[30, 0.01, 4100],\n",
    "             7:[30, 0.01, 4200], 8:[30, 0.01, 3800], 9:[30, 0.01, 4100],\n",
    "             10:[20, 0.01, 2500], 11:[20, 0.01, 2300], 12:[20, 0.01, 2100],\n",
    "             13:[20, 0.01, 2200], 14:[20, 0.01, 2200], 15:[20, 0.01, 2300],\n",
    "             16:[20, 0.01, 2300], 17:[20, 0.01, 2400], 18:[60, 0.02, 6500],\n",
    "             19:[80, 0.040000000000000001, 7300],\n",
    "             20:[120, 0.069999999999999993, 7900],\n",
    "             21:[170, 0.099999999999999992, 7600],\n",
    "             22:[200, 0.11, 7800], 23:[130, 0.080000000000000002, 7800],\n",
    "             24:[110, 0.069999999999999993, 7700],\n",
    "             25:[130, 0.080000000000000002, 7700],\n",
    "             26:[50, 0.080000000000000002, 3100],\n",
    "             27:[130, 0.080000000000000002, 7700],\n",
    "             28:[160, 0.089999999999999997, 7900],\n",
    "             29:[160, 0.089999999999999997, 7900],\n",
    "             30:[150, 0.089999999999999997, 7600],\n",
    "             31:[150, 0.089999999999999997, 7600],\n",
    "             32:[150, 0.089999999999999997, 7600],\n",
    "             33:[150, 0.089999999999999997, 7500],\n",
    "             34:[150, 0.089999999999999997, 7600],\n",
    "             35:[140, 0.099999999999999992, 5600],\n",
    "             36:[140, 0.089999999999999997, 7100],\n",
    "             37:[60, 0.099999999999999992, 2700],\n",
    "             38:[150, 0.089999999999999997, 7600],\n",
    "             39:[130, 0.089999999999999997, 6600],\n",
    "             40:[150, 0.089999999999999997, 7500],\n",
    "             41:[120, 0.089999999999999997, 6200],\n",
    "             42:[120, 0.089999999999999997, 6200],\n",
    "             43:[80, 0.099999999999999992, 3500],\n",
    "             44:[100, 0.089999999999999997, 5300],\n",
    "             45:[80, 0.099999999999999992, 3500],\n",
    "             46:[80, 0.099999999999999992, 3500],\n",
    "             47:[80, 0.099999999999999992, 3500],\n",
    "             48:[80, 0.099999999999999992, 3500],\n",
    "             49:[90, 0.099999999999999992, 3800],\n",
    "             50:[80, 0.099999999999999992, 3500],\n",
    "             51:[90, 0.099999999999999992, 3800],\n",
    "             52:[90, 0.099999999999999992, 3800],\n",
    "             53:[90, 0.089999999999999997, 4800],\n",
    "             54:[90, 0.099999999999999992, 3800],\n",
    "             55:[90, 0.099999999999999992, 3700],\n",
    "             56:[90, 0.099999999999999992, 3800],\n",
    "             57:[80, 0.089999999999999997, 4400],\n",
    "             58:[80, 0.089999999999999997, 4400],\n",
    "             59:[80, 0.089999999999999997, 4400],\n",
    "             60:[80, 0.089999999999999997, 4400],\n",
    "             61:[80, 0.089999999999999997, 4400],\n",
    "             62:[80, 0.089999999999999997, 4400],\n",
    "             63:[100, 0.099999999999999992, 4000],\n",
    "             64:[80, 0.089999999999999997, 4400],\n",
    "             65:[100, 0.099999999999999992, 4000],\n",
    "             66:[100, 0.099999999999999992, 4000],\n",
    "             67:[100, 0.099999999999999992, 4000],\n",
    "             68:[100, 0.099999999999999992, 4000],\n",
    "             69:[100, 0.099999999999999992, 4000],\n",
    "             70:[100, 0.099999999999999992, 4000],\n",
    "             71:[100, 0.099999999999999992, 4000],\n",
    "             72:[100, 0.099999999999999992, 4000],\n",
    "             73:[100, 0.099999999999999992, 4000],\n",
    "             74:[100, 0.099999999999999992, 4000],\n",
    "             75:[100, 0.099999999999999992, 4000],\n",
    "             76:[100, 0.099999999999999992, 4000],\n",
    "             77:[100, 0.099999999999999992, 4000],\n",
    "             78:[100, 0.099999999999999992, 4000],\n",
    "             79:[100, 0.099999999999999992, 4000],\n",
    "             80:[100, 0.099999999999999992, 4000],\n",
    "             81:[100, 0.099999999999999992, 4000],\n",
    "             82:[100, 0.099999999999999992, 4000],\n",
    "             83:[100, 0.099999999999999992, 4000],\n",
    "             84:[100, 0.099999999999999992, 4000],\n",
    "             85:[100, 0.099999999999999992, 4000],\n",
    "             86:[100, 0.099999999999999992, 4000],\n",
    "             87:[100, 0.099999999999999992, 4000],\n",
    "             88:[100, 0.099999999999999992, 4000],\n",
    "             89:[100, 0.099999999999999992, 4000],\n",
    "             90:[100, 0.099999999999999992, 4000],\n",
    "             91:[100, 0.099999999999999992, 4000],\n",
    "             92:[100, 0.099999999999999992, 4000],\n",
    "             93:[100, 0.099999999999999992, 4000],\n",
    "             94:[100, 0.099999999999999992, 4000],\n",
    "             95:[100, 0.099999999999999992, 4000],\n",
    "             96:[100, 0.099999999999999992, 4000],\n",
    "             97:[100, 0.099999999999999992, 4000],\n",
    "             98:[100, 0.099999999999999992, 4000],\n",
    "             99:[100, 0.099999999999999992, 4000],\n",
    "             100:[100, 0.099999999999999992, 4000],\n",
    "             101:[100, 0.099999999999999992, 4000],\n",
    "             102:[100, 0.099999999999999992, 4000],\n",
    "             103:[100, 0.099999999999999992, 4000],\n",
    "             104:[100, 0.099999999999999992, 4000],\n",
    "             105:[100, 0.099999999999999992, 4000],\n",
    "             106:[100, 0.099999999999999992, 4000],\n",
    "             107:[100, 0.099999999999999992, 4000],\n",
    "             108:[100, 0.099999999999999992, 4000],\n",
    "             109:[100, 0.099999999999999992, 4000],\n",
    "             110:[100, 0.099999999999999992, 4000],\n",
    "             111:[100, 0.099999999999999992, 4000],\n",
    "             112:[100, 0.099999999999999992, 4000],\n",
    "             113:[100, 0.099999999999999992, 4000],\n",
    "             114:[100, 0.099999999999999992, 4000],\n",
    "             115:[100, 0.099999999999999992, 4000],\n",
    "             116:[100, 0.099999999999999992, 4000],\n",
    "             117:[100, 0.099999999999999992, 4000],\n",
    "             118:[100, 0.099999999999999992, 4000],\n",
    "             119:[100, 0.099999999999999992, 4000],\n",
    "             120:[100, 0.099999999999999992, 4000]}\n",
    "\n",
    "\n",
    "# plot the true curve and the observed points\n",
    "plt.rcParams[\"font.family\"] = 'serif'\n",
    "plt.rcParams['font.size'] = 10\n",
    "fig, ax = plt.subplots(figsize=(6,4))\n",
    "scat = ax.scatter(_t,y,marker='x',c='b')\n",
    "plt.plot(_t,f,c='k',lw='2',zorder=1,label='True')\n",
    "plt.ylim(0,6500)\n",
    "plt.xlim(0,120)\n",
    "plt.grid(ls=':')\n",
    "plt.tight_layout()\n",
    "line, = ax.plot([], [], c='r',lw=2,zorder=2,label='Predicted')\n",
    "line2, = ax.plot([], [], c='b',ls='--')\n",
    "plt.legend(loc=2)\n",
    "\n",
    "def data_gen(t=1):\n",
    "    while t < 119.9:\n",
    "        t += 0.1\n",
    "        opt1 = opt_param[int(t)]\n",
    "        opt2 = opt_param[int(t)+1]\n",
    "        y1 = _f(opt1[0],opt1[1],opt1[2],_t)\n",
    "        y2 = _f(opt2[0],opt2[1],opt2[2],_t)\n",
    "        frac = float(t%1)\n",
    "        yield t, frac*y2+(1-frac)*y1\n",
    "\n",
    "\n",
    "def run(data):\n",
    "    t, x = data\n",
    "    line2.set_data([t,t],[0,9000])\n",
    "    line.set_data(_t,x)\n",
    "    scat.set_color(['b']*int(t)+['silver']*(len(y)-int(t)))\n",
    "\n",
    "    return line, line2, scat\n",
    "\n",
    "ani = animation.FuncAnimation(fig, run, data_gen, blit=False, interval=2,\n",
    "                              repeat=False,save_count=1200)\n",
    "FFwriter=animation.FFMpegWriter(fps=75, extra_args=['-vcodec', 'libx264'])\n",
    "ani.save('hermovie.mp4', writer=FFwriter,dpi=150)\n",
    "\n",
    "plt.show()"
   ]
  },
  {
   "cell_type": "code",
   "execution_count": null,
   "metadata": {},
   "outputs": [],
   "source": [
    "# https://github.com/matplotlib/matplotlib/issues/760"
   ]
  }
 ],
 "metadata": {
  "kernelspec": {
   "display_name": "Python 3",
   "language": "python",
   "name": "python3"
  },
  "language_info": {
   "codemirror_mode": {
    "name": "ipython",
    "version": 3
   },
   "file_extension": ".py",
   "mimetype": "text/x-python",
   "name": "python",
   "nbconvert_exporter": "python",
   "pygments_lexer": "ipython3",
   "version": "3.7.5"
  },
  "toc": {
   "base_numbering": 1,
   "nav_menu": {},
   "number_sections": true,
   "sideBar": true,
   "skip_h1_title": false,
   "title_cell": "Table of Contents",
   "title_sidebar": "Contents",
   "toc_cell": false,
   "toc_position": {},
   "toc_section_display": true,
   "toc_window_display": false
  }
 },
 "nbformat": 4,
 "nbformat_minor": 4
}
